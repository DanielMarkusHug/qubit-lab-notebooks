{
 "cells": [
  {
   "cell_type": "markdown",
   "id": "7dcc8b6d",
   "metadata": {
    "id": "7dcc8b6d"
   },
   "source": [
    "## HELLO, QUANTUM WORLD!  \n",
    "### 8-sided Die  (Qiskit-2 version)\n",
    "\n",
    "#### Idea\n",
    "  A quantum circuit that returns a random number\n",
    "  between 1 and 8 using three qubits:\n",
    "\n",
    "  1.  Use three qubits in superposition (applying H-gates)\n",
    "  2.  Measure the qubits to get a random 3-bit value (0 to 7)\n",
    "  3.  Add 1 to shift the range from 0–7 up to 1–8\n",
    "\n",
    "#### Author / Date\n",
    "qubit-lab.ch / May 2025\n",
    "\n",
    "#### Versions used\n",
    "- Python 3.10.9\n",
    "- Qiskit 2.0. (new version of Qiskit!)\n",
    "\n",
    "#### Instructions\n",
    "Ensure the required libraries are installed before running the notebook:\n",
    "pip install qiskit \n"
   ]
  },
  {
   "cell_type": "code",
   "execution_count": 1,
   "id": "dwl-rgU0sjwi",
   "metadata": {
    "colab": {
     "base_uri": "https://localhost:8080/"
    },
    "id": "dwl-rgU0sjwi",
    "outputId": "6a931025-2671-494c-d169-c628f315bc05"
   },
   "outputs": [
    {
     "name": "stdout",
     "output_type": "stream",
     "text": [
      "Requirement already satisfied: qiskit in /opt/homebrew/anaconda3/lib/python3.10/site-packages (2.0.0)\r\n",
      "Requirement already satisfied: stevedore>=3.0.0 in /opt/homebrew/anaconda3/lib/python3.10/site-packages (from qiskit) (5.2.0)\r\n",
      "Requirement already satisfied: typing-extensions in /opt/homebrew/anaconda3/lib/python3.10/site-packages (from qiskit) (4.7.1)\r\n",
      "Requirement already satisfied: rustworkx>=0.15.0 in /opt/homebrew/anaconda3/lib/python3.10/site-packages (from qiskit) (0.15.1)\r\n",
      "Requirement already satisfied: sympy>=1.3 in /opt/homebrew/anaconda3/lib/python3.10/site-packages (from qiskit) (1.11.1)\r\n",
      "Requirement already satisfied: scipy>=1.5 in /opt/homebrew/anaconda3/lib/python3.10/site-packages (from qiskit) (1.10.1)\r\n",
      "Requirement already satisfied: dill>=0.3 in /opt/homebrew/anaconda3/lib/python3.10/site-packages (from qiskit) (0.3.6)\r\n",
      "Requirement already satisfied: symengine<0.14,>=0.11 in /opt/homebrew/anaconda3/lib/python3.10/site-packages (from qiskit) (0.11.0)\r\n",
      "Requirement already satisfied: python-dateutil>=2.8.0 in /opt/homebrew/anaconda3/lib/python3.10/site-packages (from qiskit) (2.8.2)\r\n",
      "Requirement already satisfied: numpy<3,>=1.17 in /opt/homebrew/anaconda3/lib/python3.10/site-packages (from qiskit) (1.24.4)\r\n",
      "Requirement already satisfied: six>=1.5 in /opt/homebrew/anaconda3/lib/python3.10/site-packages (from python-dateutil>=2.8.0->qiskit) (1.16.0)\r\n",
      "Requirement already satisfied: pbr!=2.1.0,>=2.0.0 in /opt/homebrew/anaconda3/lib/python3.10/site-packages (from stevedore>=3.0.0->qiskit) (6.0.0)\r\n",
      "Requirement already satisfied: mpmath>=0.19 in /opt/homebrew/anaconda3/lib/python3.10/site-packages/mpmath-1.2.1-py3.10.egg (from sympy>=1.3->qiskit) (1.2.1)\r\n"
     ]
    }
   ],
   "source": [
    "!pip install qiskit"
   ]
  },
  {
   "cell_type": "code",
   "execution_count": 2,
   "id": "3a6a0121-2a10-45e8-844a-0c9c03cd4860",
   "metadata": {
    "id": "3a6a0121-2a10-45e8-844a-0c9c03cd4860"
   },
   "outputs": [],
   "source": [
    "from qiskit.circuit import Parameter, QuantumCircuit, ClassicalRegister, QuantumRegister\n",
    "from qiskit.primitives import StatevectorSampler"
   ]
  },
  {
   "cell_type": "code",
   "execution_count": 32,
   "id": "14d0fad5-5036-4cd5-a066-047c3d69d20f",
   "metadata": {
    "colab": {
     "base_uri": "https://localhost:8080/"
    },
    "id": "14d0fad5-5036-4cd5-a066-047c3d69d20f",
    "outputId": "f6e891eb-e536-4783-f07d-7c25507d0ac4"
   },
   "outputs": [
    {
     "name": "stdout",
     "output_type": "stream",
     "text": [
      "      ┌───┐┌─┐      \n",
      "q6_0: ┤ H ├┤M├──────\n",
      "      ├───┤└╥┘┌─┐   \n",
      "q6_1: ┤ H ├─╫─┤M├───\n",
      "      ├───┤ ║ └╥┘┌─┐\n",
      "q6_2: ┤ H ├─╫──╫─┤M├\n",
      "      └───┘ ║  ║ └╥┘\n",
      "c2: 3/══════╩══╩══╩═\n",
      "            0  1  2 \n"
     ]
    }
   ],
   "source": [
    "# Create an empty quantum circuit qc with 3 qubits\n",
    "# and 3 classical bits (to measure the qubits)\n",
    "\n",
    "qreg = QuantumRegister(3)\n",
    "creg = ClassicalRegister(3, \"creg\")\n",
    "qc = QuantumCircuit(qreg, creg)\n",
    "\n",
    "# Now, encode the quantum circuit as intended.\n",
    "# Gates / operations for each qubit are applied\n",
    "# sequentially one after the other...\n",
    "\n",
    "# First, apply a Hadamard gate on each qubit (0-2)\n",
    "# to put them in a balanced superposition:\n",
    "\n",
    "qc.h(0)\n",
    "qc.h(1)\n",
    "qc.h(2)\n",
    "\n",
    "# Then, measure each qubit (first parameter) into\n",
    "# a classical bit (second parameter):\n",
    "\n",
    "qc.measure([0, 1, 2], creg)\n",
    "\n",
    "# Now, at the end, you can draw the quantum circuit\n",
    "# diagram for verification:\n",
    "\n",
    "print(qc)\n"
   ]
  },
  {
   "cell_type": "code",
   "execution_count": 33,
   "id": "3d43df12",
   "metadata": {
    "colab": {
     "base_uri": "https://localhost:8080/"
    },
    "id": "3d43df12",
    "outputId": "ff3058ab-c8ca-4991-cfdf-fdf5c8c3b78e"
   },
   "outputs": [
    {
     "ename": "AttributeError",
     "evalue": "'DataBin' object has no attribute 'creg'",
     "output_type": "error",
     "traceback": [
      "\u001b[0;31m---------------------------------------------------------------------------\u001b[0m",
      "\u001b[0;31mAttributeError\u001b[0m                            Traceback (most recent call last)",
      "Cell \u001b[0;32mIn[33], line 12\u001b[0m\n\u001b[1;32m      9\u001b[0m result \u001b[38;5;241m=\u001b[39m job\u001b[38;5;241m.\u001b[39mresult()[\u001b[38;5;241m0\u001b[39m]\n\u001b[1;32m     11\u001b[0m \u001b[38;5;66;03m# We can work directly with a binary array im applications.\u001b[39;00m\n\u001b[0;32m---> 12\u001b[0m random_number \u001b[38;5;241m=\u001b[39m \u001b[43mresult\u001b[49m\u001b[38;5;241;43m.\u001b[39;49m\u001b[43mdata\u001b[49m\u001b[38;5;241;43m.\u001b[39;49m\u001b[43mcreg\u001b[49m\u001b[38;5;241m.\u001b[39marray[\u001b[38;5;241m0\u001b[39m][\u001b[38;5;241m0\u001b[39m]\n\u001b[1;32m     15\u001b[0m \u001b[38;5;66;03m# Or, convert into a list of bitstrings that preserve shot order.\u001b[39;00m\n\u001b[1;32m     16\u001b[0m bitstring \u001b[38;5;241m=\u001b[39m result\u001b[38;5;241m.\u001b[39mdata\u001b[38;5;241m.\u001b[39mcreg\u001b[38;5;241m.\u001b[39mget_bitstrings(\u001b[38;5;241m0\u001b[39m)[\u001b[38;5;241m0\u001b[39m]\n",
      "\u001b[0;31mAttributeError\u001b[0m: 'DataBin' object has no attribute 'creg'"
     ]
    }
   ],
   "source": [
    "# Instantiate a new statevector simulation based sampler object.\n",
    "sampler = StatevectorSampler()\n",
    " \n",
    "# Start a job that will return 1 shot\n",
    "pub = (qc)\n",
    "job = sampler.run([pub], shots=1)\n",
    " \n",
    "# Extract the result for the 0th pub (this example only has one pub).\n",
    "result = job.result()[0]\n",
    " \n",
    "# We can work directly with a binary array im applications.\n",
    "random_number = result.data.creg.array[0][0]\n",
    "\n",
    "\n",
    "# Or, convert into a list of bitstrings that preserve shot order.\n",
    "bitstring = result.data.creg.get_bitstrings(0)[0]\n",
    "\n",
    "print(\"Measured Bitstring:\", bitstring)\n",
    "print(\"Your random number between 1 and 8 is:\", random_number)"
   ]
  }
 ],
 "metadata": {
  "colab": {
   "provenance": []
  },
  "kernelspec": {
   "display_name": "Python 3 (ipykernel)",
   "language": "python",
   "name": "python3"
  },
  "language_info": {
   "codemirror_mode": {
    "name": "ipython",
    "version": 3
   },
   "file_extension": ".py",
   "mimetype": "text/x-python",
   "name": "python",
   "nbconvert_exporter": "python",
   "pygments_lexer": "ipython3",
   "version": "3.10.9"
  }
 },
 "nbformat": 4,
 "nbformat_minor": 5
}
