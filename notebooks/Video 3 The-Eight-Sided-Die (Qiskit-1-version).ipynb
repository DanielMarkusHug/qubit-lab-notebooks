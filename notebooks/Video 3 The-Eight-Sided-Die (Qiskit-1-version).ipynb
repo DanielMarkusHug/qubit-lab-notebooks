{
  "cells": [
    {
      "cell_type": "markdown",
      "id": "7dcc8b6d",
      "metadata": {
        "id": "7dcc8b6d"
      },
      "source": [
        "## HELLO, QUANTUM WORLD!  \n",
        "### 8-sided Die  (Qiskit version)\n",
        "\n",
        "#### Idea\n",
        "  A quantum circuit that returns a random number\n",
        "  between 1 and 8 using three qubits:\n",
        "\n",
        "  1.  Use three qubits in superposition (applying H-gates)\n",
        "  2.  Measure the qubits to get a random 3-bit value (0 to 7)\n",
        "  3.  Add 1 to shift the range from 0–7 up to 1–8\n",
        "\n",
        "#### Author / Date\n",
        "qubit-lab.ch / March 2025\n",
        "\n",
        "#### Versions used\n",
        "- Python 3.10.9\n",
        "- Qiskit 1.3.0. (there is a new version 2.0 that requires modifications)\n",
        "\n",
        "#### Instructions\n",
        "Ensure the required libraries are installed before running the notebook:\n",
        "pip install qiskit qiskit_aer\n"
      ]
    },
    {
      "cell_type": "code",
      "execution_count": null,
      "id": "dwl-rgU0sjwi",
      "metadata": {
        "colab": {
          "base_uri": "https://localhost:8080/"
        },
        "id": "dwl-rgU0sjwi",
        "outputId": "6a931025-2671-494c-d169-c628f315bc05"
      },
      "outputs": [],
      "source": [
        "!pip install qiskit==1.3.0\n",
        "!pip install qiskit_aer"
      ]
    },
    {
      "cell_type": "code",
      "execution_count": null,
      "id": "3a6a0121-2a10-45e8-844a-0c9c03cd4860",
      "metadata": {
        "id": "3a6a0121-2a10-45e8-844a-0c9c03cd4860"
      },
      "outputs": [],
      "source": [
        "from qiskit import QuantumCircuit, transpile\n",
        "from qiskit_aer import Aer"
      ]
    },
    {
      "cell_type": "code",
      "execution_count": null,
      "id": "14d0fad5-5036-4cd5-a066-047c3d69d20f",
      "metadata": {
        "colab": {
          "base_uri": "https://localhost:8080/"
        },
        "id": "14d0fad5-5036-4cd5-a066-047c3d69d20f",
        "outputId": "f6e891eb-e536-4783-f07d-7c25507d0ac4"
      },
      "outputs": [],
      "source": [
        "# Create an empty quantum circuit qc with 3 qubits\n",
        "# and 3 classical bits (to measure the qubits)\n",
        "\n",
        "qc = QuantumCircuit(3, 3)\n",
        "\n",
        "# Now, encode the quantum circuit as intended.\n",
        "# Gates / operations for each qubit are applied\n",
        "# sequentially one after the other...\n",
        "\n",
        "# First, apply a Hadamard gate on each qubit (0-2)\n",
        "# to put them in a balanced superposition:\n",
        "\n",
        "qc.h(0)\n",
        "qc.h(1)\n",
        "qc.h(2)\n",
        "\n",
        "# Then, measure each qubit (first parameter) into\n",
        "# a classical bit (second parameter):\n",
        "\n",
        "qc.measure(0,0)\n",
        "qc.measure(1,1)\n",
        "qc.measure(2,2)\n",
        "\n",
        "# Now, at the end, you can draw the quantum circuit\n",
        "# diagram for verification:\n",
        "\n",
        "print(qc)\n"
      ]
    },
    {
      "cell_type": "code",
      "execution_count": null,
      "id": "3d43df12",
      "metadata": {
        "colab": {
          "base_uri": "https://localhost:8080/"
        },
        "id": "3d43df12",
        "outputId": "ff3058ab-c8ca-4991-cfdf-fdf5c8c3b78e"
      },
      "outputs": [
        {
          "name": "stdout",
          "output_type": "stream",
          "text": [
            "QasmSimulator('qasm_simulator')\n"
          ]
        }
      ],
      "source": [
        "# Next step is to define the backend to be used for the\n",
        "# circuit, here we use a quantum simulator:\n",
        "\n",
        "backend = Aer.get_backend('qasm_simulator')\n",
        "print(backend)"
      ]
    },
    {
      "cell_type": "code",
      "execution_count": null,
      "id": "d1dacdbf-f417-4a82-8718-c3b09aab7094",
      "metadata": {
        "colab": {
          "base_uri": "https://localhost:8080/"
        },
        "id": "d1dacdbf-f417-4a82-8718-c3b09aab7094",
        "outputId": "b354a354-8173-4b26-eea6-f2e1ed3dabb5"
      },
      "outputs": [],
      "source": [
        "# Then, we need to transpile (= compile/optimize) the\n",
        "# defined circuit qc for the selected backend:\n",
        "\n",
        "transpiled_qc = transpile(qc, backend)\n",
        "print(transpiled_qc)"
      ]
    },
    {
      "cell_type": "code",
      "execution_count": null,
      "id": "ANVuMYHZvm9N",
      "metadata": {
        "id": "ANVuMYHZvm9N"
      },
      "outputs": [],
      "source": [
        "# Finally, we run the encoded circuit on the chosen backend\n",
        "# (1 shot = run the simulation only once!):\n",
        "\n",
        "job = backend.run(transpiled_qc, shots=1)\n",
        "result = job.result()"
      ]
    },
    {
      "cell_type": "code",
      "execution_count": null,
      "id": "31914236-0423-4257-85e8-056541a9e562",
      "metadata": {
        "colab": {
          "base_uri": "https://localhost:8080/"
        },
        "id": "31914236-0423-4257-85e8-056541a9e562",
        "outputId": "2a30782b-6f49-4a78-ee87-ae259aff74a5"
      },
      "outputs": [],
      "source": [
        "# Get the three measurement results & post-process the\n",
        "# quantum results:\n",
        "\n",
        "counts = result.get_counts()\n",
        "measured_bitstring = list(counts.keys())[0] # e.g., \"101\"\n",
        "decimal_value = int(measured_bitstring, 2) # convert to decimal\n",
        "random_number = decimal_value + 1 # shift range to 1–8\n",
        "\n",
        "print(\"counts =\",counts)\n",
        "print(\"Measured Bitstring:\", measured_bitstring)\n",
        "print(\"\\nYour random number between 1 and 8 is:\", random_number)\n"
      ]
    }
  ],
  "metadata": {
    "colab": {
      "provenance": []
    },
    "kernelspec": {
      "display_name": "Python 3 (ipykernel)",
      "language": "python",
      "name": "python3"
    },
    "language_info": {
      "codemirror_mode": {
        "name": "ipython",
        "version": 3
      },
      "file_extension": ".py",
      "mimetype": "text/x-python",
      "name": "python",
      "nbconvert_exporter": "python",
      "pygments_lexer": "ipython3",
      "version": "3.10.9"
    }
  },
  "nbformat": 4,
  "nbformat_minor": 5
}
