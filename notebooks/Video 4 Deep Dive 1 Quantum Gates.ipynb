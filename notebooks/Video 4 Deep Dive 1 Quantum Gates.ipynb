{
 "cells": [
  {
   "cell_type": "markdown",
   "id": "7dcc8b6d",
   "metadata": {
    "tags": []
   },
   "source": [
    "# Quantum Computing for Beginners  (Video 4)\n",
    "### Deep Dive I: Quantum Gates\n",
    "\n",
    "#### Idea\n",
    "  Calculate Quantum Gates and simple single qubit circuits\n",
    "\n",
    "#### Author / Date\n",
    "qubit-lab.ch / April 2025 \n",
    "\n",
    "#### Versions used\n",
    "- Python 3.10.9\n"
   ]
  },
  {
   "cell_type": "code",
   "execution_count": null,
   "id": "741a6dc9-2435-43fe-9202-a4c6ccc20739",
   "metadata": {},
   "outputs": [],
   "source": [
    "import numpy as np\n",
    "\n",
    "# Define basis states |0> and |1>\n",
    "zero = np.array([[1], [0]])\n",
    "one = np.array([[0], [1]])\n",
    "\n",
    "# Define Pauli gates\n",
    "X = np.array([[0, 1],\n",
    "              [1, 0]])\n",
    "\n",
    "Y = np.array([[0, -1j],\n",
    "              [1j, 0]])\n",
    "\n",
    "Z = np.array([[1, 0],\n",
    "              [0, -1]])\n",
    "\n",
    "# Define Hadamard gate\n",
    "H = (1 / np.sqrt(2)) * np.array([[1, 1],\n",
    "                                 [1, -1]])\n",
    "# Show quantum gates\n",
    "print(\"\\n X =\\n\", X)\n",
    "print(\"\\n Y =\\n\", Y)\n",
    "print(\"\\n Z =\\n\", Z)\n",
    "print(\"\\n H =\\n\", H)"
   ]
  },
  {
   "cell_type": "code",
   "execution_count": null,
   "id": "6bfde118-c62f-495b-80ae-33b189e715da",
   "metadata": {},
   "outputs": [],
   "source": [
    "# X gate applied on |0> and |1>\n",
    "\n",
    "print(\"\\n X|0> =\\n\", X @ zero)\n",
    "print(\"\\n X|1> =\\n\", X @ one)"
   ]
  },
  {
   "cell_type": "code",
   "execution_count": null,
   "id": "5260c539-d51e-4caa-9461-7b0606078b8d",
   "metadata": {},
   "outputs": [],
   "source": [
    "print(\"\\n H|0> = |+> =\\n\", H @ zero)\n",
    "print(\"\\n H|1> = |-> =\\n\", H @ one)"
   ]
  },
  {
   "cell_type": "code",
   "execution_count": null,
   "id": "80b7bfee-8537-4232-a6f0-c11f7f96cbe5",
   "metadata": {},
   "outputs": [],
   "source": [
    "# Check unitarity (Z * Z† = I)\n",
    "\n",
    "print(\"\\n Z† =\\n\", Z.conj().T)\n",
    "print(\"\\n Z * Z† =\\n\", Z @ Z.conj().T)"
   ]
  },
  {
   "cell_type": "code",
   "execution_count": null,
   "id": "1c673216-2945-4ab3-bd11-881e109be893",
   "metadata": {},
   "outputs": [],
   "source": [
    "# Composite gate H-Z-H\n",
    "HZH = H @ Z @ H\n",
    "print(\"\\n Composite gate H-Z-H =\\n\", HZH)\n",
    "\n",
    "# Apply composite gate H-Z-H to |0>\n",
    "print(\"\\n H-Z-H applied to |0> =\\n\", HZH @ zero)\n",
    "\n",
    "# Apply composite gate H-Z-H to |1>\n",
    "print(\"\\n H-Z-H applied to |1> =\\n\", HZH @ one)"
   ]
  },
  {
   "cell_type": "code",
   "execution_count": null,
   "id": "3ce1b0be-c0e2-4564-97d0-bafe02689149",
   "metadata": {},
   "outputs": [],
   "source": [
    "# Check unitarity (U * U† = I)\n",
    "\n",
    "print(\"\\n (H-Z-H)(H-Z-H)† =\\n\", HZH @ HZH.conj().T)\n",
    "print(\"\\n (H-Z-H)(H-Z-H)† =\\n\", np.round(HZH @ HZH.conj().T, decimals=10))"
   ]
  }
 ],
 "metadata": {
  "kernelspec": {
   "display_name": "Python 3 (ipykernel)",
   "language": "python",
   "name": "python3"
  },
  "language_info": {
   "codemirror_mode": {
    "name": "ipython",
    "version": 3
   },
   "file_extension": ".py",
   "mimetype": "text/x-python",
   "name": "python",
   "nbconvert_exporter": "python",
   "pygments_lexer": "ipython3",
   "version": "3.10.9"
  }
 },
 "nbformat": 4,
 "nbformat_minor": 5
}
