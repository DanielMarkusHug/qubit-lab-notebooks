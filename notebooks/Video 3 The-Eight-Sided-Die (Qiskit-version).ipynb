{
  "cells": [
    {
      "cell_type": "markdown",
      "id": "7dcc8b6d",
      "metadata": {
        "id": "7dcc8b6d"
      },
      "source": [
        "## HELLO, QUANTUM WORLD!  \n",
        "### 8-sided Die  (Qiskit version)\n",
        "\n",
        "#### Idea\n",
        "  A quantum circuit that returns a random number\n",
        "  between 1 and 8 using three qubits:\n",
        "\n",
        "  1.  Use three qubits in superposition (applying H-gates)\n",
        "  2.  Measure the qubits to get a random 3-bit value (0 to 7)\n",
        "  3.  Add 1 to shift the range from 0–7 up to 1–8\n",
        "\n",
        "#### Author / Date\n",
        "qubit-lab.ch / March 2025\n",
        "\n",
        "#### Versions used\n",
        "- Python 3.10.9\n",
        "- Qiskit 1.3.0. (there is a new version 2.0 that requires modifications)\n",
        "\n",
        "#### Instructions\n",
        "Ensure the required libraries are installed before running the notebook:\n",
        "pip install qiskit qiskit_aer\n"
      ]
    },
    {
      "cell_type": "code",
      "source": [
        "!pip install qiskit==1.3.0\n",
        "!pip install qiskit_aer"
      ],
      "metadata": {
        "colab": {
          "base_uri": "https://localhost:8080/"
        },
        "id": "dwl-rgU0sjwi",
        "outputId": "6a931025-2671-494c-d169-c628f315bc05"
      },
      "id": "dwl-rgU0sjwi",
      "execution_count": null,
      "outputs": [
        {
          "output_type": "stream",
          "name": "stdout",
          "text": [
            "Requirement already satisfied: qiskit==1.3.0 in /usr/local/lib/python3.11/dist-packages (1.3.0)\n",
            "Requirement already satisfied: rustworkx>=0.15.0 in /usr/local/lib/python3.11/dist-packages (from qiskit==1.3.0) (0.16.0)\n",
            "Requirement already satisfied: numpy<3,>=1.17 in /usr/local/lib/python3.11/dist-packages (from qiskit==1.3.0) (2.0.2)\n",
            "Requirement already satisfied: scipy>=1.5 in /usr/local/lib/python3.11/dist-packages (from qiskit==1.3.0) (1.15.2)\n",
            "Requirement already satisfied: sympy>=1.3 in /usr/local/lib/python3.11/dist-packages (from qiskit==1.3.0) (1.13.1)\n",
            "Requirement already satisfied: dill>=0.3 in /usr/local/lib/python3.11/dist-packages (from qiskit==1.3.0) (0.4.0)\n",
            "Requirement already satisfied: python-dateutil>=2.8.0 in /usr/local/lib/python3.11/dist-packages (from qiskit==1.3.0) (2.9.0.post0)\n",
            "Requirement already satisfied: stevedore>=3.0.0 in /usr/local/lib/python3.11/dist-packages (from qiskit==1.3.0) (5.4.1)\n",
            "Requirement already satisfied: typing-extensions in /usr/local/lib/python3.11/dist-packages (from qiskit==1.3.0) (4.13.2)\n",
            "Requirement already satisfied: symengine<0.14,>=0.11 in /usr/local/lib/python3.11/dist-packages (from qiskit==1.3.0) (0.13.0)\n",
            "Requirement already satisfied: six>=1.5 in /usr/local/lib/python3.11/dist-packages (from python-dateutil>=2.8.0->qiskit==1.3.0) (1.17.0)\n",
            "Requirement already satisfied: pbr>=2.0.0 in /usr/local/lib/python3.11/dist-packages (from stevedore>=3.0.0->qiskit==1.3.0) (6.1.1)\n",
            "Requirement already satisfied: mpmath<1.4,>=1.1.0 in /usr/local/lib/python3.11/dist-packages (from sympy>=1.3->qiskit==1.3.0) (1.3.0)\n",
            "Requirement already satisfied: setuptools in /usr/local/lib/python3.11/dist-packages (from pbr>=2.0.0->stevedore>=3.0.0->qiskit==1.3.0) (75.2.0)\n",
            "Requirement already satisfied: qiskit_aer in /usr/local/lib/python3.11/dist-packages (0.17.0)\n",
            "Requirement already satisfied: qiskit>=1.1.0 in /usr/local/lib/python3.11/dist-packages (from qiskit_aer) (1.3.0)\n",
            "Requirement already satisfied: numpy>=1.16.3 in /usr/local/lib/python3.11/dist-packages (from qiskit_aer) (2.0.2)\n",
            "Requirement already satisfied: scipy>=1.0 in /usr/local/lib/python3.11/dist-packages (from qiskit_aer) (1.15.2)\n",
            "Requirement already satisfied: psutil>=5 in /usr/local/lib/python3.11/dist-packages (from qiskit_aer) (5.9.5)\n",
            "Requirement already satisfied: rustworkx>=0.15.0 in /usr/local/lib/python3.11/dist-packages (from qiskit>=1.1.0->qiskit_aer) (0.16.0)\n",
            "Requirement already satisfied: sympy>=1.3 in /usr/local/lib/python3.11/dist-packages (from qiskit>=1.1.0->qiskit_aer) (1.13.1)\n",
            "Requirement already satisfied: dill>=0.3 in /usr/local/lib/python3.11/dist-packages (from qiskit>=1.1.0->qiskit_aer) (0.4.0)\n",
            "Requirement already satisfied: python-dateutil>=2.8.0 in /usr/local/lib/python3.11/dist-packages (from qiskit>=1.1.0->qiskit_aer) (2.9.0.post0)\n",
            "Requirement already satisfied: stevedore>=3.0.0 in /usr/local/lib/python3.11/dist-packages (from qiskit>=1.1.0->qiskit_aer) (5.4.1)\n",
            "Requirement already satisfied: typing-extensions in /usr/local/lib/python3.11/dist-packages (from qiskit>=1.1.0->qiskit_aer) (4.13.2)\n",
            "Requirement already satisfied: symengine<0.14,>=0.11 in /usr/local/lib/python3.11/dist-packages (from qiskit>=1.1.0->qiskit_aer) (0.13.0)\n",
            "Requirement already satisfied: six>=1.5 in /usr/local/lib/python3.11/dist-packages (from python-dateutil>=2.8.0->qiskit>=1.1.0->qiskit_aer) (1.17.0)\n",
            "Requirement already satisfied: pbr>=2.0.0 in /usr/local/lib/python3.11/dist-packages (from stevedore>=3.0.0->qiskit>=1.1.0->qiskit_aer) (6.1.1)\n",
            "Requirement already satisfied: mpmath<1.4,>=1.1.0 in /usr/local/lib/python3.11/dist-packages (from sympy>=1.3->qiskit>=1.1.0->qiskit_aer) (1.3.0)\n",
            "Requirement already satisfied: setuptools in /usr/local/lib/python3.11/dist-packages (from pbr>=2.0.0->stevedore>=3.0.0->qiskit>=1.1.0->qiskit_aer) (75.2.0)\n",
            "Collecting pylatexenc\n",
            "  Downloading pylatexenc-2.10.tar.gz (162 kB)\n",
            "\u001b[2K     \u001b[90m━━━━━━━━━━━━━━━━━━━━━━━━━━━━━━━━━━━━━━━\u001b[0m \u001b[32m162.6/162.6 kB\u001b[0m \u001b[31m3.7 MB/s\u001b[0m eta \u001b[36m0:00:00\u001b[0m\n",
            "\u001b[?25h  Preparing metadata (setup.py) ... \u001b[?25l\u001b[?25hdone\n",
            "Building wheels for collected packages: pylatexenc\n",
            "  Building wheel for pylatexenc (setup.py) ... \u001b[?25l\u001b[?25hdone\n",
            "  Created wheel for pylatexenc: filename=pylatexenc-2.10-py3-none-any.whl size=136817 sha256=8439fd861e41f14815a559cfb8df63bcd1a37f9a98a946eb82764d5378191493\n",
            "  Stored in directory: /root/.cache/pip/wheels/b1/7a/33/9fdd892f784ed4afda62b685ae3703adf4c91aa0f524c28f03\n",
            "Successfully built pylatexenc\n",
            "Installing collected packages: pylatexenc\n",
            "Successfully installed pylatexenc-2.10\n"
          ]
        }
      ]
    },
    {
      "cell_type": "code",
      "execution_count": null,
      "id": "3a6a0121-2a10-45e8-844a-0c9c03cd4860",
      "metadata": {
        "id": "3a6a0121-2a10-45e8-844a-0c9c03cd4860"
      },
      "outputs": [],
      "source": [
        "from qiskit import QuantumCircuit, transpile\n",
        "from qiskit_aer import Aer"
      ]
    },
    {
      "cell_type": "code",
      "execution_count": null,
      "id": "14d0fad5-5036-4cd5-a066-047c3d69d20f",
      "metadata": {
        "colab": {
          "base_uri": "https://localhost:8080/"
        },
        "id": "14d0fad5-5036-4cd5-a066-047c3d69d20f",
        "outputId": "f6e891eb-e536-4783-f07d-7c25507d0ac4"
      },
      "outputs": [
        {
          "output_type": "stream",
          "name": "stdout",
          "text": [
            "     ┌───┐┌─┐      \n",
            "q_0: ┤ H ├┤M├──────\n",
            "     ├───┤└╥┘┌─┐   \n",
            "q_1: ┤ H ├─╫─┤M├───\n",
            "     ├───┤ ║ └╥┘┌─┐\n",
            "q_2: ┤ H ├─╫──╫─┤M├\n",
            "     └───┘ ║  ║ └╥┘\n",
            "c: 3/══════╩══╩══╩═\n",
            "           0  1  2 \n"
          ]
        }
      ],
      "source": [
        "# Create an empty quantum circuit qc with 3 qubits\n",
        "# and 3 classical bits (to measure the qubits)\n",
        "\n",
        "qc = QuantumCircuit(3, 3)\n",
        "\n",
        "# Now, encode the quantum circuit as intended.\n",
        "# Gates / operations for each qubit are applied\n",
        "# sequentially one after the other...\n",
        "\n",
        "# First, apply a Hadamard gate on each qubit (0-2)\n",
        "# to put them in a balanced superposition:\n",
        "\n",
        "qc.h(0)\n",
        "qc.h(1)\n",
        "qc.h(2)\n",
        "\n",
        "# Then, measure each qubit (first parameter) into\n",
        "# a classical bit (second parameter):\n",
        "\n",
        "qc.measure(0,0)\n",
        "qc.measure(1,1)\n",
        "qc.measure(2,2)\n",
        "\n",
        "# Now, at the end, you can draw the quantum circuit\n",
        "# diagram for verification:\n",
        "\n",
        "print(qc)\n"
      ]
    },
    {
      "cell_type": "code",
      "execution_count": null,
      "id": "3d43df12",
      "metadata": {
        "colab": {
          "base_uri": "https://localhost:8080/"
        },
        "id": "3d43df12",
        "outputId": "ff3058ab-c8ca-4991-cfdf-fdf5c8c3b78e"
      },
      "outputs": [
        {
          "output_type": "stream",
          "name": "stdout",
          "text": [
            "QasmSimulator('qasm_simulator')\n"
          ]
        }
      ],
      "source": [
        "# Next step is to define the backend to be used for the\n",
        "# circuit, here we use a quantum simulator:\n",
        "\n",
        "backend = Aer.get_backend('qasm_simulator')\n",
        "print(backend)"
      ]
    },
    {
      "cell_type": "code",
      "execution_count": null,
      "id": "d1dacdbf-f417-4a82-8718-c3b09aab7094",
      "metadata": {
        "colab": {
          "base_uri": "https://localhost:8080/"
        },
        "id": "d1dacdbf-f417-4a82-8718-c3b09aab7094",
        "outputId": "b354a354-8173-4b26-eea6-f2e1ed3dabb5"
      },
      "outputs": [
        {
          "output_type": "stream",
          "name": "stdout",
          "text": [
            "     ┌───┐┌─┐      \n",
            "q_0: ┤ H ├┤M├──────\n",
            "     ├───┤└╥┘┌─┐   \n",
            "q_1: ┤ H ├─╫─┤M├───\n",
            "     ├───┤ ║ └╥┘┌─┐\n",
            "q_2: ┤ H ├─╫──╫─┤M├\n",
            "     └───┘ ║  ║ └╥┘\n",
            "c: 3/══════╩══╩══╩═\n",
            "           0  1  2 \n"
          ]
        }
      ],
      "source": [
        "# Then, we need to transpile (= compile/optimize) the\n",
        "# defined circuit qc for the selected backend:\n",
        "\n",
        "transpiled_qc = transpile(qc, backend)\n",
        "print(transpiled_qc)"
      ]
    },
    {
      "cell_type": "code",
      "source": [
        "# Finally, we run the encoded circuit on the chosen backend\n",
        "# (1 shot = run the simulation only once!):\n",
        "\n",
        "job = backend.run(transpiled_qc, shots=1)\n",
        "result = job.result()"
      ],
      "metadata": {
        "id": "ANVuMYHZvm9N"
      },
      "id": "ANVuMYHZvm9N",
      "execution_count": null,
      "outputs": []
    },
    {
      "cell_type": "code",
      "execution_count": null,
      "id": "31914236-0423-4257-85e8-056541a9e562",
      "metadata": {
        "colab": {
          "base_uri": "https://localhost:8080/"
        },
        "id": "31914236-0423-4257-85e8-056541a9e562",
        "outputId": "2a30782b-6f49-4a78-ee87-ae259aff74a5"
      },
      "outputs": [
        {
          "output_type": "stream",
          "name": "stdout",
          "text": [
            "counts = {'001': 1}\n",
            "Measured Bitstring: 001\n",
            "\n",
            "Your random number between 1 and 8 is: 2\n"
          ]
        }
      ],
      "source": [
        "# Get the three measurement results & post-process the\n",
        "# quantum results:\n",
        "\n",
        "counts = result.get_counts()\n",
        "measured_bitstring = list(counts.keys())[0] # e.g., \"101\"\n",
        "decimal_value = int(measured_bitstring, 2) # convert to decimal\n",
        "random_number = decimal_value + 1 # shift range to 1–8\n",
        "\n",
        "print(\"counts =\",counts)\n",
        "print(\"Measured Bitstring:\", measured_bitstring)\n",
        "print(\"\\nYour random number between 1 and 8 is:\", random_number)\n"
      ]
    }
  ],
  "metadata": {
    "kernelspec": {
      "display_name": "Python 3 (ipykernel)",
      "language": "python",
      "name": "python3"
    },
    "language_info": {
      "codemirror_mode": {
        "name": "ipython",
        "version": 3
      },
      "file_extension": ".py",
      "mimetype": "text/x-python",
      "name": "python",
      "nbconvert_exporter": "python",
      "pygments_lexer": "ipython3",
      "version": "3.10.9"
    },
    "colab": {
      "provenance": []
    }
  },
  "nbformat": 4,
  "nbformat_minor": 5
}