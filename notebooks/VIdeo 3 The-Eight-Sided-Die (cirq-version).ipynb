{
 "cells": [
  {
   "cell_type": "markdown",
   "id": "855dc86c",
   "metadata": {},
   "source": [
    "## HELLO, QUANTUM WORLD!  \n",
    "## 8-sided Die  (cirq version)\n",
    "\n",
    "#### Idea\n",
    "  A quantum circuit that returns a random number \n",
    "  between 1 and 8 using three qubits:\n",
    "\n",
    "  1.  Use three qubits in superposition (applying H-gates)\n",
    "  2.  Measure the qubits to get a random 3-bit value (0 to 7)\n",
    "  3.  Add 1 to shift the range from 0–7 up to 1–8\n",
    "\n",
    "#### Author / Date\n",
    "qubit-lab.ch / March 2025  \n",
    "\n",
    "#### Versions used\n",
    "- Python 3.10.9\n",
    "- Cirq 1.4.1\n",
    "\n",
    "#### Instructions\n",
    "Ensure the required libraries are installed before running the notebook:\n",
    "pip install cirq\n"
   ]
  },
  {
   "cell_type": "code",
   "execution_count": 1,
   "id": "3a6a0121-2a10-45e8-844a-0c9c03cd4860",
   "metadata": {},
   "outputs": [
    {
     "name": "stdout",
     "output_type": "stream",
     "text": [
      "Your random number between 1 and 8 is: 7\n",
      "\n",
      "Generated Quantum Circuit:\n",
      "\n",
      "0: ───H───M('result')───\n",
      "          │\n",
      "1: ───H───M─────────────\n",
      "          │\n",
      "2: ───H───M─────────────\n"
     ]
    }
   ],
   "source": [
    "import cirq\n",
    "\n",
    "# Create three qubits\n",
    "qubits = [cirq.LineQubit(i) for i in range(3)]\n",
    "\n",
    "# Define the circuit\n",
    "circuit = cirq.Circuit()\n",
    "\n",
    "# Apply Hadamard gates to put each qubit in superposition\n",
    "circuit.append(cirq.H.on_each(*qubits))\n",
    "\n",
    "# Add measurements\n",
    "circuit.append(cirq.measure(*qubits, key='result'))\n",
    "\n",
    "# Simulate the circuit\n",
    "simulator = cirq.Simulator()\n",
    "result = simulator.run(circuit, repetitions=1)\n",
    "\n",
    "# Extract the measurement outcome\n",
    "measurements = result.measurements['result'][0]  # 1st shot only\n",
    "measured_bitstring = ''.join(map(str, measurements[::-1])) # Reverse bits \n",
    "decimal_value = int(measured_bitstring, 2)  # Convert to decimal\n",
    "random_number = decimal_value + 1  # Shift range to 1–8\n",
    "\n",
    "print(\"Your random number between 1 and 8 is:\", random_number)\n",
    "\n",
    "# Print the circuit for visualization\n",
    "print(\"\\nGenerated Quantum Circuit:\\n\")\n",
    "print(circuit)"
   ]
  }
 ],
 "metadata": {
  "kernelspec": {
   "display_name": "Python 3 (ipykernel)",
   "language": "python",
   "name": "python3"
  },
  "language_info": {
   "codemirror_mode": {
    "name": "ipython",
    "version": 3
   },
   "file_extension": ".py",
   "mimetype": "text/x-python",
   "name": "python",
   "nbconvert_exporter": "python",
   "pygments_lexer": "ipython3",
   "version": "3.10.9"
  }
 },
 "nbformat": 4,
 "nbformat_minor": 5
}
