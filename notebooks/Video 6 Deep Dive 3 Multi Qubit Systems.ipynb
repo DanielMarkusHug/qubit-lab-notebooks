{
  "cells": [
    {
      "cell_type": "markdown",
      "id": "7dcc8b6d",
      "metadata": {
        "tags": [],
        "id": "7dcc8b6d"
      },
      "source": [
        "# Qubit-Lab.ch - Quantum Computing (Video 6)\n",
        "### Deep Dive 3: Multi Qubit Systems\n",
        "\n",
        "#### Idea\n",
        "  Calculate Multi Qubit Systems\n",
        "\n",
        "#### Author / Date\n",
        "qubit-lab.ch / May 2025\n",
        "\n",
        "#### Versions used\n",
        "- Python 3.10\n",
        "- Qiskit 2.0\n"
      ]
    },
    {
      "cell_type": "code",
      "source": [
        "!pip install qiskit --quiet\n",
        "!pip install qiskit_aer --quiet"
      ],
      "metadata": {
        "id": "YP8hNL2lUUP0"
      },
      "id": "YP8hNL2lUUP0",
      "execution_count": null,
      "outputs": []
    },
    {
      "cell_type": "code",
      "source": [
        "from qiskit import QuantumCircuit, QuantumRegister, ClassicalRegister\n",
        "from qiskit_aer.primitives import Sampler\n",
        "from qiskit.visualization import plot_histogram\n",
        "import matplotlib.pyplot as plt\n",
        "import numpy as np"
      ],
      "metadata": {
        "id": "Rp5ledZ9UiYs"
      },
      "id": "Rp5ledZ9UiYs",
      "execution_count": null,
      "outputs": []
    },
    {
      "cell_type": "markdown",
      "source": [
        "##Code Bite #1:\n",
        "#Simpe Hadamard - CNOT on 2 Qubits...\n",
        "###Examining the circuit with Qiskit."
      ],
      "metadata": {
        "id": "lEOufkmlUq2c"
      },
      "id": "lEOufkmlUq2c"
    },
    {
      "cell_type": "code",
      "source": [
        "# Create an empty quantum circuit qc with 2 qubits\n",
        "# and 2 classical bits (to measure the qubits)\n",
        "\n",
        "qreg = QuantumRegister(2)\n",
        "creg = ClassicalRegister(2, \"creg\")\n",
        "qc = QuantumCircuit(qreg, creg)\n",
        "\n",
        "# Now, encode the quantum circuit as intended.\n",
        "# Gates / operations for each qubit are applied\n",
        "# sequentially one after the other...\n",
        "\n",
        "# First, apply a Hadamard on each, qubit 0 and 1:\n",
        "\n",
        "qc.h(0)\n",
        "qc.h(1)\n",
        "\n",
        "# Then, measure each qubit (first parameter) into\n",
        "# a classical bit (second parameter):\n",
        "\n",
        "qc.measure([0, 1], creg)\n",
        "\n",
        "# Now, at the end, you can draw the quantum circuit\n",
        "# diagram for verification:\n",
        "\n",
        "print(qc)\n",
        "\n",
        "# Create a sampler instance\n",
        "sampler = Sampler()\n",
        "\n",
        "# Run the circuit\n",
        "job = sampler.run(circuits=[qc], shots=1024)\n",
        "result = job.result()\n",
        "\n",
        "# Convert integer keys to binary strings with leading zeros\n",
        "quasi_dist = result.quasi_dists[0]\n",
        "counts = {\n",
        "    format(k, f'0{qc.num_qubits}b'): round(v * 10000)\n",
        "    for k, v in quasi_dist.items()\n",
        "}\n",
        "\n",
        "# Plot the histogram\n",
        "plot_histogram(counts)\n"
      ],
      "metadata": {
        "id": "jl_samvvSB20"
      },
      "id": "jl_samvvSB20",
      "execution_count": null,
      "outputs": []
    },
    {
      "cell_type": "markdown",
      "source": [
        "##Code Bite #2:\n",
        "#Simpe Hadamard - CNOT on 2 Qubits...\n",
        "###Examining the circuit with Qiskit."
      ],
      "metadata": {
        "id": "BgXoOM56SBJw"
      },
      "id": "BgXoOM56SBJw"
    },
    {
      "cell_type": "code",
      "source": [
        "# Create an empty quantum circuit qc with 2 qubits\n",
        "# and 2 classical bits (to measure the qubits)\n",
        "\n",
        "qreg = QuantumRegister(2)\n",
        "creg = ClassicalRegister(2, \"creg\")\n",
        "qc = QuantumCircuit(qreg, creg)\n",
        "\n",
        "# Now, encode the quantum circuit as intended.\n",
        "# Gates / operations for each qubit are applied\n",
        "# sequentially one after the other...\n",
        "\n",
        "# First, apply a Hadamard on qubit 0, then a\n",
        "# CNOT (control qubit = 0, target qubit =1):\n",
        "\n",
        "qc.h(0)\n",
        "qc.cx(0,1)\n",
        "\n",
        "# Then, measure each qubit (first parameter) into\n",
        "# a classical bit (second parameter):\n",
        "\n",
        "qc.measure([0, 1], creg)\n",
        "\n",
        "# Now, at the end, you can draw the quantum circuit\n",
        "# diagram for verification:\n",
        "\n",
        "print(qc)\n",
        "\n",
        "# Create a sampler instance\n",
        "sampler = Sampler()\n",
        "\n",
        "# Run the circuit\n",
        "job = sampler.run(circuits=[qc], shots=1024)\n",
        "result = job.result()\n",
        "\n",
        "# Convert integer keys to binary strings with leading zeros\n",
        "quasi_dist = result.quasi_dists[0]\n",
        "counts = {\n",
        "    format(k, f'0{qc.num_qubits}b'): round(v * 10000)\n",
        "    for k, v in quasi_dist.items()\n",
        "}\n",
        "\n",
        "# Plot the histogram\n",
        "plot_histogram(counts)\n"
      ],
      "metadata": {
        "id": "FT7xhaDoVeoa"
      },
      "id": "FT7xhaDoVeoa",
      "execution_count": null,
      "outputs": []
    },
    {
      "cell_type": "markdown",
      "source": [
        "##Code Bite #3:\n",
        "#Simpe Hadamard - CNOT on 2 Qubits - qubit 1 = |1>\n",
        "###Examining the circuit with Qiskit."
      ],
      "metadata": {
        "id": "IIRMQicNhHgO"
      },
      "id": "IIRMQicNhHgO"
    },
    {
      "cell_type": "code",
      "source": [
        "# Create an empty quantum circuit qc with 2 qubits\n",
        "# and 2 classical bits (to measure the qubits)\n",
        "\n",
        "qreg = QuantumRegister(2)\n",
        "creg = ClassicalRegister(2, \"creg\")\n",
        "qc = QuantumCircuit(qreg, creg)\n",
        "\n",
        "# Now, encode the quantum circuit as intended.\n",
        "# Gates / operations for each qubit are applied\n",
        "# sequentially one after the other...\n",
        "\n",
        "# First, apply a Hadamard on qubit 0, and an X-gate\n",
        "# on qubit 1, then a\n",
        "# CNOT (control qubit = 0, target qubit =1):\n",
        "\n",
        "qc.h(0)\n",
        "qc.x(1)\n",
        "qc.cx(0,1)\n",
        "\n",
        "# Then, measure each qubit (first parameter) into\n",
        "# a classical bit (second parameter):\n",
        "\n",
        "qc.measure([0, 1], creg)\n",
        "\n",
        "# Now, at the end, you can draw the quantum circuit\n",
        "# diagram for verification:\n",
        "\n",
        "print(qc)\n",
        "\n",
        "# Create a sampler instance\n",
        "sampler = Sampler()\n",
        "\n",
        "# Run the circuit\n",
        "job = sampler.run(circuits=[qc], shots=1024)\n",
        "result = job.result()\n",
        "\n",
        "# Convert integer keys to binary strings with leading zeros\n",
        "quasi_dist = result.quasi_dists[0]\n",
        "counts = {\n",
        "    format(k, f'0{qc.num_qubits}b'): round(v * 10000)\n",
        "    for k, v in quasi_dist.items()\n",
        "}\n",
        "\n",
        "# Plot the histogram\n",
        "plot_histogram(counts)"
      ],
      "metadata": {
        "collapsed": true,
        "id": "J6Dz0HYQhZhA"
      },
      "id": "J6Dz0HYQhZhA",
      "execution_count": null,
      "outputs": []
    },
    {
      "cell_type": "markdown",
      "source": [
        "##Code Bite #4:\n",
        "#Calcuate 2-qubit state vectors & matrices\n",
        "###using numpy function np.kron()"
      ],
      "metadata": {
        "id": "r7reFDrGAEdD"
      },
      "id": "r7reFDrGAEdD"
    },
    {
      "cell_type": "code",
      "source": [
        "# Define basis states |0> and |1>\n",
        "zero = np.array([[1], [0]])\n",
        "one = np.array([[0], [1]])\n",
        "\n",
        "# Define Pauli gates\n",
        "X = np.array([[0, 1],\n",
        "              [1, 0]])\n",
        "\n",
        "Y = np.array([[0, -1j],\n",
        "              [1j, 0]])\n",
        "\n",
        "Z = np.array([[1, 0],\n",
        "              [0, -1]])\n",
        "\n",
        "I = np.array([[1, 0],\n",
        "              [0, 1]])\n",
        "\n",
        "# Define Hadamard gate\n",
        "H = (1 / np.sqrt(2)) * np.array([[1, 1],\n",
        "                                 [1, -1]])\n",
        "\n",
        "# CNOT gate matrix (control qubit = qubit 0, target = qubit 1)\n",
        "CNOT = np.array([\n",
        "    [1, 0, 0, 0],  # |00> -> |00>\n",
        "    [0, 1, 0, 0],  # |01> -> |01>\n",
        "    [0, 0, 0, 1],  # |10> -> |11>\n",
        "    [0, 0, 1, 0],  # |11> -> |10>\n",
        "])\n",
        "\n",
        "print(\"CNOT matrix:\")\n",
        "print(CNOT)\n",
        "\n",
        "# Show quantum gates\n",
        "print(\"\\n X =\\n\", X)\n",
        "print(\"\\n Y =\\n\", Y)\n",
        "print(\"\\n Z =\\n\", Z)\n",
        "print(\"\\n I =\\n\", I)\n",
        "print(\"\\n H =\\n\", H)"
      ],
      "metadata": {
        "id": "Yq6Kvs0jaTMS"
      },
      "id": "Yq6Kvs0jaTMS",
      "execution_count": null,
      "outputs": []
    },
    {
      "cell_type": "code",
      "execution_count": null,
      "id": "6bfde118-c62f-495b-80ae-33b189e715da",
      "metadata": {
        "id": "6bfde118-c62f-495b-80ae-33b189e715da"
      },
      "outputs": [],
      "source": [
        "## Step-by-step calculating the 2-qubit state vectors...\n",
        "\n",
        "# Tensor Product of zero and zero\n",
        "zero_zero = np.kron(zero, zero)\n",
        "print(\"\\n |0><0| =\\n\", zero_zero)\n",
        "\n",
        "# Tensor Product of zero and one\n",
        "zero_one = np.kron(zero, one)\n",
        "print(\"\\n |0><1| =\\n\", zero_one)\n",
        "\n",
        "# Tensor Product of |+> and zero\n",
        "plus= H @ zero\n",
        "plus_zero = np.kron(plus, zero)\n",
        "print(\"\\n |+><0| =\\n\", plus_zero)\n",
        "\n",
        "# CNOT applied on |+><0|:\n",
        "result_1= CNOT @ plus_zero\n",
        "print(\"\\n CNOT applied on |+><0| =\\n\", result_1)\n",
        "\n",
        "# This is the bell state 'phi+'"
      ]
    },
    {
      "cell_type": "code",
      "execution_count": null,
      "id": "80b7bfee-8537-4232-a6f0-c11f7f96cbe5",
      "metadata": {
        "id": "80b7bfee-8537-4232-a6f0-c11f7f96cbe5"
      },
      "outputs": [],
      "source": [
        "## First calculating the composite gate and then, applying it to the\n",
        "## initial |00> state vector...\n",
        "\n",
        "# Tensor Product of H-gate and I-Gate\n",
        "H_I= np.kron(H, I)\n",
        "print(\"\\n H x I =\\n\", H_I)\n",
        "\n",
        "# Multiplication of CNOT by (H x I)\n",
        "Composite_1 = CNOT @ H_I\n",
        "print(\"\\n Composite Gate 1 =\\n\", Composite_1)\n",
        "\n",
        "# Composite Gate 1 applied to zero_zero\n",
        "result_1b = Composite_1 @ zero_zero\n",
        "print(\"\\n Composite Gate 1 applied to |0><0| =\\n\", result_1b)\n",
        "\n",
        "# Again, the bell state 'phi+', but this we calculated the composite gate first."
      ]
    },
    {
      "cell_type": "markdown",
      "source": [],
      "metadata": {
        "id": "KFS7m7Y2LJNB"
      },
      "id": "KFS7m7Y2LJNB"
    },
    {
      "cell_type": "markdown",
      "source": [
        "##Code Bite #5:\n",
        "#Hadamard/Hadamard - Toffoli on 3 Qubits...\n",
        "###Examining the circuit with Qiskit."
      ],
      "metadata": {
        "id": "xEiuoKfALRQZ"
      },
      "id": "xEiuoKfALRQZ"
    },
    {
      "cell_type": "code",
      "execution_count": null,
      "id": "3ce1b0be-c0e2-4564-97d0-bafe02689149",
      "metadata": {
        "id": "3ce1b0be-c0e2-4564-97d0-bafe02689149"
      },
      "outputs": [],
      "source": [
        "# Create an empty quantum circuit qc with 3 qubits\n",
        "# and 3 classical bits (to measure the qubits)\n",
        "\n",
        "qreg = QuantumRegister(3)\n",
        "creg = ClassicalRegister(3, \"creg\")\n",
        "qc = QuantumCircuit(qreg, creg)\n",
        "\n",
        "# Now, encode the quantum circuit as intended.\n",
        "# Gates / operations for each qubit are applied\n",
        "# sequentially one after the other...\n",
        "\n",
        "# First, apply a Hadamard on qubit 0 and 1, and a\n",
        "# Toffoli-Gate = CCNOT or CCX (control qubits = 0,1; target qubit =2):\n",
        "\n",
        "qc.h(0)\n",
        "qc.h(1)\n",
        "qc.ccx(0,1,2)\n",
        "\n",
        "# Then, measure each qubit (first parameter) into\n",
        "# a classical bit (second parameter):\n",
        "\n",
        "qc.measure([0, 1, 2], creg)\n",
        "\n",
        "# Now, at the end, you can draw the quantum circuit\n",
        "# diagram for verification:\n",
        "\n",
        "print(qc)\n",
        "\n",
        "# Create a sampler instance\n",
        "sampler = Sampler()\n",
        "\n",
        "# Run the circuit\n",
        "job = sampler.run(circuits=[qc], shots=10000)\n",
        "result = job.result()\n",
        "\n",
        "# Convert integer keys to binary strings with leading zeros\n",
        "quasi_dist = result.quasi_dists[0]\n",
        "counts = {\n",
        "    format(k, f'0{qc.num_qubits}b'): round(v * 10000)\n",
        "    for k, v in quasi_dist.items()\n",
        "}\n",
        "\n",
        "# Plot the histogram\n",
        "plot_histogram(counts)"
      ]
    }
  ],
  "metadata": {
    "kernelspec": {
      "display_name": "Python 3 (ipykernel)",
      "language": "python",
      "name": "python3"
    },
    "language_info": {
      "codemirror_mode": {
        "name": "ipython",
        "version": 3
      },
      "file_extension": ".py",
      "mimetype": "text/x-python",
      "name": "python",
      "nbconvert_exporter": "python",
      "pygments_lexer": "ipython3",
      "version": "3.10.9"
    },
    "colab": {
      "provenance": []
    }
  },
  "nbformat": 4,
  "nbformat_minor": 5
}